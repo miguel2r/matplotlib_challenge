{
 "cells": [
  {
   "cell_type": "markdown",
   "metadata": {},
   "source": [
    "## Observations and Insights"
   ]
  },
  {
   "cell_type": "markdown",
   "metadata": {},
   "source": []
  },
  {
   "cell_type": "markdown",
   "metadata": {},
   "source": [
    "After 45 days of tumor growth measurements under several Treatment Regimens I observed:\n",
    "\n",
    "Based on (mean) measure of central tendency's Drug Regime: Naftisol, Placebo & Stelasyn got the highest Tumor Growth Average of around 54 (mm3). On the other hand, Ramicane got the lowest Tumor Growth Average of about 40.21. So Ramicane was the better treatment regimen applied  on mice over 45 days of measurement.\n",
    "\n",
    "The box plot graphic confirms us that Ramicane got the better results on controlling the Tumor Growth as well as Capumulin. But Ramicane must be reviewed closely to find out why and how it got the some TGA around 40.21. It might help to continue improving its own process and be a reference for other treatments. Anyways Ramicame is confirming the lead of this treatment regiments over this period based on this graphics.\n",
    "\n",
    "The scatter plot graphic shows the correlation between Weight (g) and Tumor Volume (mm3) for Capumulin treatment, based on this plot, I can observe that for those mice that are over 22 weight,  the tumor growth results are increasing up to 46 tumor volume (mm3), and for those mice under 22 weight the tumor growth results are decreasing  all the way long  up to 16 tumor volume (mm3). I can say that weight’s mice are potentially a factor the must be taken in consideration in the tumor growth regiment treatment (More weight on a mouse more tumor growth as a result).\n",
    "\n",
    "\n"
   ]
  },
  {
   "cell_type": "markdown",
   "metadata": {},
   "source": [
    "## Dependencies and starter code"
   ]
  },
  {
   "cell_type": "code",
   "execution_count": 128,
   "metadata": {},
   "outputs": [],
   "source": [
    "# Dependencies and Setup\n",
    "import matplotlib.pyplot as plt\n",
    "import pandas as pd\n",
    "import scipy.stats as st\n",
    "import numpy as np\n",
    "from scipy.stats import sem\n",
    "from scipy.stats import linregress\n",
    "from sklearn import datasets\n",
    "\n",
    "\n",
    "# Study data files\n",
    "mouse_metadata = \"Mouse_metadata.csv\"\n",
    "study_results = \"Study_results.csv\"\n",
    "\n",
    "# Read the mouse data and the study results\n",
    "mouse_metadata = pd.read_csv(mouse_metadata)\n",
    "study_results = pd.read_csv(study_results)\n",
    "\n",
    "# Combine the data into a single dataset"
   ]
  },
  {
   "cell_type": "code",
   "execution_count": 114,
   "metadata": {},
   "outputs": [
    {
     "data": {
      "text/html": [
       "<div>\n",
       "<style scoped>\n",
       "    .dataframe tbody tr th:only-of-type {\n",
       "        vertical-align: middle;\n",
       "    }\n",
       "\n",
       "    .dataframe tbody tr th {\n",
       "        vertical-align: top;\n",
       "    }\n",
       "\n",
       "    .dataframe thead th {\n",
       "        text-align: right;\n",
       "    }\n",
       "</style>\n",
       "<table border=\"1\" class=\"dataframe\">\n",
       "  <thead>\n",
       "    <tr style=\"text-align: right;\">\n",
       "      <th></th>\n",
       "      <th>Mouse ID</th>\n",
       "      <th>Drug Regimen</th>\n",
       "      <th>Sex</th>\n",
       "      <th>Age_months</th>\n",
       "      <th>Weight (g)</th>\n",
       "    </tr>\n",
       "  </thead>\n",
       "  <tbody>\n",
       "    <tr>\n",
       "      <th>0</th>\n",
       "      <td>k403</td>\n",
       "      <td>Ramicane</td>\n",
       "      <td>Male</td>\n",
       "      <td>21</td>\n",
       "      <td>16</td>\n",
       "    </tr>\n",
       "    <tr>\n",
       "      <th>1</th>\n",
       "      <td>s185</td>\n",
       "      <td>Capomulin</td>\n",
       "      <td>Female</td>\n",
       "      <td>3</td>\n",
       "      <td>17</td>\n",
       "    </tr>\n",
       "    <tr>\n",
       "      <th>2</th>\n",
       "      <td>x401</td>\n",
       "      <td>Capomulin</td>\n",
       "      <td>Female</td>\n",
       "      <td>16</td>\n",
       "      <td>15</td>\n",
       "    </tr>\n",
       "    <tr>\n",
       "      <th>3</th>\n",
       "      <td>m601</td>\n",
       "      <td>Capomulin</td>\n",
       "      <td>Male</td>\n",
       "      <td>22</td>\n",
       "      <td>17</td>\n",
       "    </tr>\n",
       "    <tr>\n",
       "      <th>4</th>\n",
       "      <td>g791</td>\n",
       "      <td>Ramicane</td>\n",
       "      <td>Male</td>\n",
       "      <td>11</td>\n",
       "      <td>16</td>\n",
       "    </tr>\n",
       "    <tr>\n",
       "      <th>...</th>\n",
       "      <td>...</td>\n",
       "      <td>...</td>\n",
       "      <td>...</td>\n",
       "      <td>...</td>\n",
       "      <td>...</td>\n",
       "    </tr>\n",
       "    <tr>\n",
       "      <th>244</th>\n",
       "      <td>z314</td>\n",
       "      <td>Stelasyn</td>\n",
       "      <td>Female</td>\n",
       "      <td>21</td>\n",
       "      <td>28</td>\n",
       "    </tr>\n",
       "    <tr>\n",
       "      <th>245</th>\n",
       "      <td>z435</td>\n",
       "      <td>Propriva</td>\n",
       "      <td>Female</td>\n",
       "      <td>12</td>\n",
       "      <td>26</td>\n",
       "    </tr>\n",
       "    <tr>\n",
       "      <th>246</th>\n",
       "      <td>z581</td>\n",
       "      <td>Infubinol</td>\n",
       "      <td>Female</td>\n",
       "      <td>24</td>\n",
       "      <td>25</td>\n",
       "    </tr>\n",
       "    <tr>\n",
       "      <th>247</th>\n",
       "      <td>z795</td>\n",
       "      <td>Naftisol</td>\n",
       "      <td>Female</td>\n",
       "      <td>13</td>\n",
       "      <td>29</td>\n",
       "    </tr>\n",
       "    <tr>\n",
       "      <th>248</th>\n",
       "      <td>z969</td>\n",
       "      <td>Naftisol</td>\n",
       "      <td>Male</td>\n",
       "      <td>9</td>\n",
       "      <td>30</td>\n",
       "    </tr>\n",
       "  </tbody>\n",
       "</table>\n",
       "<p>249 rows × 5 columns</p>\n",
       "</div>"
      ],
      "text/plain": [
       "    Mouse ID Drug Regimen     Sex  Age_months  Weight (g)\n",
       "0       k403     Ramicane    Male          21          16\n",
       "1       s185    Capomulin  Female           3          17\n",
       "2       x401    Capomulin  Female          16          15\n",
       "3       m601    Capomulin    Male          22          17\n",
       "4       g791     Ramicane    Male          11          16\n",
       "..       ...          ...     ...         ...         ...\n",
       "244     z314     Stelasyn  Female          21          28\n",
       "245     z435     Propriva  Female          12          26\n",
       "246     z581    Infubinol  Female          24          25\n",
       "247     z795     Naftisol  Female          13          29\n",
       "248     z969     Naftisol    Male           9          30\n",
       "\n",
       "[249 rows x 5 columns]"
      ]
     },
     "execution_count": 114,
     "metadata": {},
     "output_type": "execute_result"
    }
   ],
   "source": [
    "mouse_metadata"
   ]
  },
  {
   "cell_type": "markdown",
   "metadata": {},
   "source": [
    "## Summary statistics"
   ]
  },
  {
   "cell_type": "code",
   "execution_count": 115,
   "metadata": {},
   "outputs": [
    {
     "data": {
      "text/html": [
       "<div>\n",
       "<style scoped>\n",
       "    .dataframe tbody tr th:only-of-type {\n",
       "        vertical-align: middle;\n",
       "    }\n",
       "\n",
       "    .dataframe tbody tr th {\n",
       "        vertical-align: top;\n",
       "    }\n",
       "\n",
       "    .dataframe thead th {\n",
       "        text-align: right;\n",
       "    }\n",
       "</style>\n",
       "<table border=\"1\" class=\"dataframe\">\n",
       "  <thead>\n",
       "    <tr style=\"text-align: right;\">\n",
       "      <th></th>\n",
       "      <th>Mouse ID</th>\n",
       "      <th>Timepoint</th>\n",
       "      <th>Tumor Volume (mm3)</th>\n",
       "      <th>Metastatic Sites</th>\n",
       "    </tr>\n",
       "  </thead>\n",
       "  <tbody>\n",
       "    <tr>\n",
       "      <th>0</th>\n",
       "      <td>b128</td>\n",
       "      <td>0</td>\n",
       "      <td>45.000000</td>\n",
       "      <td>0</td>\n",
       "    </tr>\n",
       "    <tr>\n",
       "      <th>1</th>\n",
       "      <td>f932</td>\n",
       "      <td>0</td>\n",
       "      <td>45.000000</td>\n",
       "      <td>0</td>\n",
       "    </tr>\n",
       "    <tr>\n",
       "      <th>2</th>\n",
       "      <td>g107</td>\n",
       "      <td>0</td>\n",
       "      <td>45.000000</td>\n",
       "      <td>0</td>\n",
       "    </tr>\n",
       "    <tr>\n",
       "      <th>3</th>\n",
       "      <td>a457</td>\n",
       "      <td>0</td>\n",
       "      <td>45.000000</td>\n",
       "      <td>0</td>\n",
       "    </tr>\n",
       "    <tr>\n",
       "      <th>4</th>\n",
       "      <td>c819</td>\n",
       "      <td>0</td>\n",
       "      <td>45.000000</td>\n",
       "      <td>0</td>\n",
       "    </tr>\n",
       "    <tr>\n",
       "      <th>...</th>\n",
       "      <td>...</td>\n",
       "      <td>...</td>\n",
       "      <td>...</td>\n",
       "      <td>...</td>\n",
       "    </tr>\n",
       "    <tr>\n",
       "      <th>1888</th>\n",
       "      <td>r944</td>\n",
       "      <td>45</td>\n",
       "      <td>41.581521</td>\n",
       "      <td>2</td>\n",
       "    </tr>\n",
       "    <tr>\n",
       "      <th>1889</th>\n",
       "      <td>u364</td>\n",
       "      <td>45</td>\n",
       "      <td>31.023923</td>\n",
       "      <td>3</td>\n",
       "    </tr>\n",
       "    <tr>\n",
       "      <th>1890</th>\n",
       "      <td>p438</td>\n",
       "      <td>45</td>\n",
       "      <td>61.433892</td>\n",
       "      <td>1</td>\n",
       "    </tr>\n",
       "    <tr>\n",
       "      <th>1891</th>\n",
       "      <td>x773</td>\n",
       "      <td>45</td>\n",
       "      <td>58.634971</td>\n",
       "      <td>4</td>\n",
       "    </tr>\n",
       "    <tr>\n",
       "      <th>1892</th>\n",
       "      <td>b879</td>\n",
       "      <td>45</td>\n",
       "      <td>72.555239</td>\n",
       "      <td>2</td>\n",
       "    </tr>\n",
       "  </tbody>\n",
       "</table>\n",
       "<p>1893 rows × 4 columns</p>\n",
       "</div>"
      ],
      "text/plain": [
       "     Mouse ID  Timepoint  Tumor Volume (mm3)  Metastatic Sites\n",
       "0        b128          0           45.000000                 0\n",
       "1        f932          0           45.000000                 0\n",
       "2        g107          0           45.000000                 0\n",
       "3        a457          0           45.000000                 0\n",
       "4        c819          0           45.000000                 0\n",
       "...       ...        ...                 ...               ...\n",
       "1888     r944         45           41.581521                 2\n",
       "1889     u364         45           31.023923                 3\n",
       "1890     p438         45           61.433892                 1\n",
       "1891     x773         45           58.634971                 4\n",
       "1892     b879         45           72.555239                 2\n",
       "\n",
       "[1893 rows x 4 columns]"
      ]
     },
     "execution_count": 115,
     "metadata": {},
     "output_type": "execute_result"
    }
   ],
   "source": [
    "study_results"
   ]
  },
  {
   "cell_type": "code",
   "execution_count": 116,
   "metadata": {},
   "outputs": [
    {
     "data": {
      "text/html": [
       "<style  type=\"text/css\" >\n",
       "</style><table id=\"T_47c5731c_6e23_11ea_bd90_4851b70266f5\" ><thead>    <tr>        <th class=\"blank level0\" ></th>        <th class=\"col_heading level0 col0\" >Mean</th>        <th class=\"col_heading level0 col1\" >Median</th>        <th class=\"col_heading level0 col2\" >Variance</th>        <th class=\"col_heading level0 col3\" >Standar Deviation</th>        <th class=\"col_heading level0 col4\" >SEM</th>    </tr></thead><tbody>\n",
       "                <tr>\n",
       "                        <th id=\"T_47c5731c_6e23_11ea_bd90_4851b70266f5level0_row0\" class=\"row_heading level0 row0\" >0</th>\n",
       "                        <td id=\"T_47c5731c_6e23_11ea_bd90_4851b70266f5row0_col0\" class=\"data row0 col0\" >               50.45</td>\n",
       "                        <td id=\"T_47c5731c_6e23_11ea_bd90_4851b70266f5row0_col1\" class=\"data row0 col1\" >               48.95</td>\n",
       "                        <td id=\"T_47c5731c_6e23_11ea_bd90_4851b70266f5row0_col2\" class=\"data row0 col2\" >               79.07</td>\n",
       "                        <td id=\"T_47c5731c_6e23_11ea_bd90_4851b70266f5row0_col3\" class=\"data row0 col3\" >                8.89</td>\n",
       "                        <td id=\"T_47c5731c_6e23_11ea_bd90_4851b70266f5row0_col4\" class=\"data row0 col4\" >              0.2044</td>\n",
       "            </tr>\n",
       "    </tbody></table>"
      ],
      "text/plain": [
       "<pandas.io.formats.style.Styler at 0x21cbbeacb38>"
      ]
     },
     "execution_count": 116,
     "metadata": {},
     "output_type": "execute_result"
    }
   ],
   "source": [
    "# Generate a summary statistics table of mean, median, variance, standard deviation, and SEM of the tumor volume for each regimen\n",
    "study_results.rename(columns = {'Tumor Volume (mm3)':'Total_vol'}, inplace = True)  \n",
    "# Step 1 Get the the measures of central tendency\n",
    "v_tumor_vol_df = study_results['Total_vol']\n",
    "v_tumor_mean = np.mean(v_tumor_vol_df)\n",
    "v_tumor_median= np.median(v_tumor_vol_df)\n",
    "v_tumor_mode = st.mode(v_tumor_vol_df)\n",
    "v_tumor_var= np.var(v_tumor_vol_df,ddof = 0)\n",
    "v_tumor_std = np.std(v_tumor_vol_df,ddof = 0)\n",
    "v_tumor_sem =sem(study_results.Total_vol)\n",
    "\n",
    "\n",
    "data_list = {'Mean':[v_tumor_mean], 'Median':[v_tumor_median],\n",
    "              'Variance':[v_tumor_var],'Standar Deviation':[v_tumor_std],\n",
    "              'SEM':[v_tumor_sem]}\n",
    "summary_df = pd.DataFrame(data_list) \n",
    "#summary_df.head(10)\n",
    "# Step 2 display a df summary table\n",
    "summary_df.head(10).style.format({\"Mean\":\"{:20,.2f}\",\"Median\":\"{:20,.2f}\",\n",
    "                                 \"Variance\":\"{:20,.2f}\",\"Standar Deviation\":\"{:20,.2f}\"\n",
    "                                 ,                                 \"SEM\":\"{:20,.4f}\"\n",
    "                                 })\n",
    "\n"
   ]
  },
  {
   "cell_type": "code",
   "execution_count": 127,
   "metadata": {},
   "outputs": [
    {
     "data": {
      "text/html": [
       "<div>\n",
       "<style scoped>\n",
       "    .dataframe tbody tr th:only-of-type {\n",
       "        vertical-align: middle;\n",
       "    }\n",
       "\n",
       "    .dataframe tbody tr th {\n",
       "        vertical-align: top;\n",
       "    }\n",
       "\n",
       "    .dataframe thead th {\n",
       "        text-align: right;\n",
       "    }\n",
       "</style>\n",
       "<table border=\"1\" class=\"dataframe\">\n",
       "  <thead>\n",
       "    <tr style=\"text-align: right;\">\n",
       "      <th></th>\n",
       "      <th>v_median</th>\n",
       "      <th>v_mean</th>\n",
       "      <th>v_std</th>\n",
       "    </tr>\n",
       "    <tr>\n",
       "      <th>Drug Regimen</th>\n",
       "      <th></th>\n",
       "      <th></th>\n",
       "      <th></th>\n",
       "    </tr>\n",
       "  </thead>\n",
       "  <tbody>\n",
       "    <tr>\n",
       "      <th>Capomulin</th>\n",
       "      <td>41.557809</td>\n",
       "      <td>40.675741</td>\n",
       "      <td>4.994774</td>\n",
       "    </tr>\n",
       "    <tr>\n",
       "      <th>Ceftamin</th>\n",
       "      <td>51.776157</td>\n",
       "      <td>52.591172</td>\n",
       "      <td>6.268188</td>\n",
       "    </tr>\n",
       "    <tr>\n",
       "      <th>Infubinol</th>\n",
       "      <td>51.820584</td>\n",
       "      <td>52.884795</td>\n",
       "      <td>6.567243</td>\n",
       "    </tr>\n",
       "    <tr>\n",
       "      <th>Ketapril</th>\n",
       "      <td>53.698743</td>\n",
       "      <td>55.235638</td>\n",
       "      <td>8.279709</td>\n",
       "    </tr>\n",
       "    <tr>\n",
       "      <th>Naftisol</th>\n",
       "      <td>52.509285</td>\n",
       "      <td>54.331565</td>\n",
       "      <td>8.134708</td>\n",
       "    </tr>\n",
       "    <tr>\n",
       "      <th>Placebo</th>\n",
       "      <td>52.288934</td>\n",
       "      <td>54.033581</td>\n",
       "      <td>7.821003</td>\n",
       "    </tr>\n",
       "    <tr>\n",
       "      <th>Propriva</th>\n",
       "      <td>50.854632</td>\n",
       "      <td>52.322552</td>\n",
       "      <td>6.507770</td>\n",
       "    </tr>\n",
       "    <tr>\n",
       "      <th>Ramicane</th>\n",
       "      <td>40.673236</td>\n",
       "      <td>40.216745</td>\n",
       "      <td>4.846308</td>\n",
       "    </tr>\n",
       "    <tr>\n",
       "      <th>Stelasyn</th>\n",
       "      <td>52.431737</td>\n",
       "      <td>54.233149</td>\n",
       "      <td>7.710419</td>\n",
       "    </tr>\n",
       "    <tr>\n",
       "      <th>Zoniferol</th>\n",
       "      <td>51.818479</td>\n",
       "      <td>53.236507</td>\n",
       "      <td>6.966589</td>\n",
       "    </tr>\n",
       "  </tbody>\n",
       "</table>\n",
       "</div>"
      ],
      "text/plain": [
       "               v_median     v_mean     v_std\n",
       "Drug Regimen                                \n",
       "Capomulin     41.557809  40.675741  4.994774\n",
       "Ceftamin      51.776157  52.591172  6.268188\n",
       "Infubinol     51.820584  52.884795  6.567243\n",
       "Ketapril      53.698743  55.235638  8.279709\n",
       "Naftisol      52.509285  54.331565  8.134708\n",
       "Placebo       52.288934  54.033581  7.821003\n",
       "Propriva      50.854632  52.322552  6.507770\n",
       "Ramicane      40.673236  40.216745  4.846308\n",
       "Stelasyn      52.431737  54.233149  7.710419\n",
       "Zoniferol     51.818479  53.236507  6.966589"
      ]
     },
     "execution_count": 127,
     "metadata": {},
     "output_type": "execute_result"
    }
   ],
   "source": [
    "# By regime\n",
    "new_t1_df  = pd.merge (study_results,mouse_metadata, how='left', on=['Mouse ID'])\n",
    "new_t1_df\n",
    "zz = new_t1_df.groupby(by=[\"Drug Regimen\"]).agg(v_median = ('Total_vol' , 'median'),\n",
    "                                                  v_mean = ('Total_vol' , 'mean'),\n",
    "                                                  v_std = ('Total_vol' , np.std),\n",
    "                                                  )\n",
    "zz.head(10)"
   ]
  },
  {
   "cell_type": "markdown",
   "metadata": {},
   "source": [
    "## Bar plots"
   ]
  },
  {
   "cell_type": "code",
   "execution_count": 5,
   "metadata": {},
   "outputs": [
    {
     "data": {
      "image/png": "[encoded data removed]",
      "text/plain": [
       "<Figure size 432x288 with 1 Axes>"
      ]
     },
     "metadata": {
      "needs_background": "light"
     },
     "output_type": "display_data"
    }
   ],
   "source": [
    "# Generate a bar plot showing number of data points for each treatment regimen using pandas\n",
    "# step 1 merge 2 df \n",
    "new_t_df  = pd.merge (study_results,mouse_metadata, how='left', on=['Mouse ID'])\n",
    "# step 2 select columns needed and group it\n",
    "val_columns_df =new_t_df[['Drug Regimen','Mouse ID','Timepoint']]\n",
    "# step 3 group by regime and convent this results in to a df\n",
    "return_a_df = pd.DataFrame({'Timepoint' : val_columns_df.groupby( ['Drug Regimen'] ).size()}).reset_index()\n",
    "return_a_df\n",
    "#step 3  Create a bar plot\n",
    "return_a_df.plot.bar(x=\"Drug Regimen\", y=\"Timepoint\", rot=70, title=\"Data points for each Treatment Regimen\");\n"
   ]
  },
  {
   "cell_type": "code",
   "execution_count": 6,
   "metadata": {},
   "outputs": [
    {
     "data": {
      "image/png": "[encoded data removed]",
      "text/plain": [
       "<Figure size 432x288 with 1 Axes>"
      ]
     },
     "metadata": {
      "needs_background": "light"
     },
     "output_type": "display_data"
    }
   ],
   "source": [
    "# Generate a bar plot showing number of data points for each treatment regimen using pyplot\n",
    "# step 1 merge 2 df \n",
    "new_t_df  = pd.merge (study_results,mouse_metadata, how='left', on=['Mouse ID'])\n",
    "# step 2 select columns needed and group it\n",
    "val_columns_df =new_t_df[['Drug Regimen','Mouse ID','Timepoint']]\n",
    "# step 3 group by regime and convent this results in to a df\n",
    "return_a_df = pd.DataFrame({'Timepoint' : val_columns_df.groupby( ['Drug Regimen'] ).size()}).reset_index()\n",
    "return_a_df['Timepoint']\n",
    "# step 4 bar plot\n",
    "regimen = return_a_df['Drug Regimen']\n",
    "y_pos = np.arange(len(regimen))\n",
    "dpoints = return_a_df['Timepoint']\n",
    "plt.bar(y_pos, dpoints, align='center', alpha=0.5)\n",
    "plt.xticks(y_pos, regimen, rotation=20)\n",
    "plt.ylabel('Data points')\n",
    "plt.xlabel('Regimen')\n",
    "plt.title('Data points for each treatment')\n",
    "plt.show()"
   ]
  },
  {
   "cell_type": "markdown",
   "metadata": {},
   "source": [
    "## Pie plots"
   ]
  },
  {
   "cell_type": "code",
   "execution_count": 7,
   "metadata": {},
   "outputs": [
    {
     "data": {
      "text/plain": [
       "<matplotlib.axes._subplots.AxesSubplot at 0x21cbb3176d8>"
      ]
     },
     "execution_count": 7,
     "metadata": {},
     "output_type": "execute_result"
    },
    {
     "data": {
      "image/png": "[encoded data removed]",
      "text/plain": [
       "<Figure size 360x360 with 1 Axes>"
      ]
     },
     "metadata": {},
     "output_type": "display_data"
    }
   ],
   "source": [
    "# Generate a pie plot showing the distribution of female versus male mice using pandas\n",
    "return_a_df = pd.DataFrame({'count_v' : mouse_metadata.groupby( [\"Sex\"] ).size()}).reset_index()\n",
    "#return_a_df\n",
    "labels = return_a_df[\"Sex\"]\n",
    "return_a_df.plot.pie(y='count_v',labels=labels,figsize=(5, 5),autopct='%1.1f%%', startangle=90)\n",
    "\n"
   ]
  },
  {
   "cell_type": "code",
   "execution_count": 8,
   "metadata": {},
   "outputs": [
    {
     "data": {
      "image/png": "[encoded data removed]",
      "text/plain": [
       "<Figure size 432x288 with 1 Axes>"
      ]
     },
     "metadata": {},
     "output_type": "display_data"
    }
   ],
   "source": [
    "# Generate a pie plot showing the distribution of female versus male mice using pyplot\n",
    "gen_val_df =mouse_metadata.groupby(\"Sex\").size()\n",
    "# Convert a gropy data to a data frame\n",
    "return_a_df = pd.DataFrame({'count_v' : mouse_metadata.groupby( [\"Sex\"] ).size()}).reset_index()\n",
    "#return_a_df[\"count_v\"]\n",
    "# Create a pie chart\n",
    "plt.pie(return_a_df[\"count_v\"]  , labels=return_a_df['Sex'],autopct='%1.1f%%')\n",
    "plt.axis('equal')\n",
    "plt.tight_layout()\n",
    "plt.show()\n"
   ]
  },
  {
   "cell_type": "markdown",
   "metadata": {},
   "source": [
    "# Quartiles, outliers and boxplots"
   ]
  },
  {
   "cell_type": "code",
   "execution_count": 9,
   "metadata": {},
   "outputs": [],
   "source": [
    "#Calculate the final tumor volume of each mouse across four of the most promising treatment regimens:\n",
    "#Capomulin, Ramicane, Infubinol, and Ceftamin. Calculate the quartiles and IQR and quantitatively\n",
    "#determine  if there are any potential outliers across all four treatment regimens."
   ]
  },
  {
   "cell_type": "code",
   "execution_count": 10,
   "metadata": {},
   "outputs": [
    {
     "name": "stdout",
     "output_type": "stream",
     "text": [
      "Results:\n",
      "The lower quartile of tumor volume is: 33.48002734\n",
      "The upper quartile of tumor volume is: 62.14221369\n",
      "The interquartile range of tumor volume is: 28.66218635\n",
      "The the median of tumor volume is: 40.1592203 \n",
      "Values below -9.513252184999999 could be outliers.\n",
      "Values above 105.135493215 could be outliers.\n"
     ]
    }
   ],
   "source": [
    "# Calculate the final tumor volume of each mouse across four of the most promising treatment regimens. Calculate the IQR and quantitatively determine if there are any potential outliers.\n",
    "#step 1 Select the data set to work with\n",
    "o_new_t_df  = pd.merge (study_results,mouse_metadata, how='left', on=['Mouse ID'])\n",
    "#new_t_df\n",
    "val_o_columns_df = o_new_t_df[['Drug Regimen','Mouse ID','Timepoint','Total_vol']]\n",
    "val_o_columns_df\n",
    "\n",
    "# Step 2 Get the final tumor volume of each mouse for centain regimens and get the final tumor volume\n",
    "options=['Capomulin', 'Ramicane', 'Infubinol','Ceftamin']\n",
    "val_o1_columns_df = val_o_columns_df[val_o_columns_df['Drug Regimen'].isin(options)] \n",
    "val_o2_columns_df = val_o1_columns_df[val_o1_columns_df['Timepoint']==45] \n",
    "val_o2_columns_df\n",
    "# Step 3 Calculate the quartiles and IQR and quantitatively\n",
    "v_tot_vol = val_o2_columns_df['Total_vol']\n",
    "\n",
    "quartiles = v_tot_vol.quantile([.25,.5,.75])\n",
    "lowerq = quartiles[0.25]\n",
    "upperq = quartiles[0.75]\n",
    "iqr = upperq-lowerq\n",
    "print(\"Results:\")\n",
    "print(f\"The lower quartile of tumor volume is: {lowerq}\")\n",
    "print(f\"The upper quartile of tumor volume is: {upperq}\")\n",
    "print(f\"The interquartile range of tumor volume is: {iqr}\")\n",
    "print(f\"The the median of tumor volume is: {quartiles[0.5]} \")\n",
    "\n",
    "lower_bound = lowerq - (1.5*iqr)\n",
    "upper_bound = upperq + (1.5*iqr)\n",
    "print(f\"Values below {lower_bound} could be outliers.\")\n",
    "print(f\"Values above {upper_bound} could be outliers.\")\n"
   ]
  },
  {
   "cell_type": "code",
   "execution_count": 11,
   "metadata": {},
   "outputs": [
    {
     "data": {
      "image/png": "[encoded data removed]",
      "text/plain": [
       "<Figure size 432x288 with 1 Axes>"
      ]
     },
     "metadata": {
      "needs_background": "light"
     },
     "output_type": "display_data"
    }
   ],
   "source": [
    "# Generate a box plot of the final tumor volume of each mouse across four regimens of interest\n",
    "\n",
    "fig1, ax1 = plt.subplots()\n",
    "ax1.set_title('Tumors Volume')\n",
    "ax1.set_ylabel('Tumor Volume (mm3)')\n",
    "ax1.boxplot(v_tot_vol)\n",
    "plt.show()"
   ]
  },
  {
   "cell_type": "code",
   "execution_count": 81,
   "metadata": {},
   "outputs": [
    {
     "data": {
      "image/png": "[encoded data removed]",
      "text/plain": [
       "<Figure size 1080x720 with 1 Axes>"
      ]
     },
     "metadata": {
      "needs_background": "light"
     },
     "output_type": "display_data"
    }
   ],
   "source": [
    "#step 1 Select the data set to work with\n",
    "o_new_t_df  = pd.merge (study_results,mouse_metadata, how='left', on=['Mouse ID'])\n",
    "#new_t_df\n",
    "val_o_columns_df = o_new_t_df[['Drug Regimen','Mouse ID','Timepoint','Total_vol']]\n",
    "val_o_columns_df\n",
    "\n",
    "# Step 2 Get the final tumor volume of each mouse for centain regimens and get the final tumor volume\n",
    "# For Capomulin\n",
    "options=['Capomulin']#, 'Ramicane', 'Infubinol','Ceftamin']\n",
    "val_o1_columns_df = val_o_columns_df[val_o_columns_df['Drug Regimen'].isin(options)] \n",
    "val_o1_columns_df\n",
    "return_a_df = pd.DataFrame({'Timepoint' :val_o1_columns_df.groupby(['Drug Regimen','Mouse ID'], sort=False)['Timepoint'].max()}).reset_index()\n",
    "#return_a_df\n",
    "v_merge_maxtime_df  = pd.merge (return_a_df,val_o1_columns_df, how='left', on=['Drug Regimen','Mouse ID','Timepoint'])\n",
    "##v_merge_maxtime_df \n",
    "v_merge_maxtime_df.rename(columns = {'Total_vol':'Capomulin'}, inplace = True)\n",
    "xxy=v_merge_maxtime_df.drop(['Drug Regimen','Mouse ID','Timepoint'], axis = 1)\n",
    "#xxy\n",
    "\n",
    "\n",
    "#Ramicane\n",
    "qoptions=['Ramicane']#, 'Ramicane', 'Infubinol','Ceftamin']\n",
    "qval_o1_columns_df = val_o_columns_df[val_o_columns_df['Drug Regimen'].isin(qoptions)] \n",
    "qval_o1_columns_df\n",
    "qreturn_a_df = pd.DataFrame({'Timepoint' :qval_o1_columns_df.groupby(['Drug Regimen','Mouse ID'], sort=False)['Timepoint'].max()}).reset_index()\n",
    "qreturn_a_df\n",
    "qv_merge_maxtime_df  = pd.merge (qreturn_a_df,qval_o1_columns_df, how='left', on=['Drug Regimen','Mouse ID','Timepoint'])\n",
    "qv_merge_maxtime_df \n",
    "qv_merge_maxtime_df.rename(columns = {'Total_vol':'Ramicane'}, inplace = True)  \n",
    "qv_merge_maxtime_df\n",
    "qxxy=qv_merge_maxtime_df.drop(['Drug Regimen','Mouse ID','Timepoint'], axis = 1)\n",
    "qxxy\n",
    "\n",
    "#Infubinol\n",
    "\n",
    "options_in=['Infubinol']#, 'Ramicane', 'Infubinol','Ceftamin']\n",
    "val_in_columns_df = val_o_columns_df[val_o_columns_df['Drug Regimen'].isin(options_in)] \n",
    "val_in_columns_df\n",
    "return_in_df = pd.DataFrame({'Timepoint' :val_in_columns_df.groupby(['Drug Regimen','Mouse ID'], sort=False)['Timepoint'].max()}).reset_index()\n",
    "return_in_df\n",
    "v_merge_in_maxtime_df  = pd.merge (return_in_df,val_in_columns_df, how='left', on=['Drug Regimen','Mouse ID','Timepoint'])\n",
    "v_merge_in_maxtime_df \n",
    "v_merge_in_maxtime_df.rename(columns = {'Total_vol':'Infubinol'}, inplace = True)  \n",
    "v_merge_in_maxtime_df\n",
    "xxin=v_merge_in_maxtime_df.drop(['Drug Regimen','Mouse ID','Timepoint'], axis = 1)\n",
    "xxin\n",
    "\n",
    "#Ceftamin\n",
    "\n",
    "options_ce=['Ceftamin']#, 'Ramicane', 'Infubinol','Ceftamin']\n",
    "val_ce_columns_df = val_o_columns_df[val_o_columns_df['Drug Regimen'].isin(options_ce)] \n",
    "val_ce_columns_df\n",
    "return_ce_df = pd.DataFrame({'Timepoint' :val_ce_columns_df.groupby(['Drug Regimen','Mouse ID'], sort=False)['Timepoint'].max()}).reset_index()\n",
    "return_ce_df\n",
    "v_merge_ce_maxtime_df  = pd.merge (return_ce_df,val_ce_columns_df, how='left', on=['Drug Regimen','Mouse ID','Timepoint'])\n",
    "v_merge_ce_maxtime_df \n",
    "v_merge_ce_maxtime_df.rename(columns = {'Total_vol':'Ceftamin'}, inplace = True)  \n",
    "v_merge_ce_maxtime_df\n",
    "xxce=v_merge_ce_maxtime_df.drop(['Drug Regimen','Mouse ID','Timepoint'], axis = 1)\n",
    "xxce\n",
    "\n",
    "\n",
    "# merge regime values\n",
    "\n",
    "zv_merge_maxtime_df = xxy.merge(qxxy, left_index=True, right_index=True)\n",
    "w1 =zv_merge_maxtime_df.merge(xxin, left_index=True, right_index=True)\n",
    "w2 =w1.merge(xxce, left_index=True, right_index=True)\n",
    "#w2\n",
    "# box plot summary\n",
    "\n",
    "fig = plt.figure(figsize=(15,10))\n",
    "ax1 =fig.add_subplot(2,2,1)\n",
    "ax1.set_title('Box plot by Regimen')\n",
    "ax1.set_ylabel('Tumor Volume (mm3)')\n",
    "w2.boxplot(ax = ax1)\n",
    "#w2\n",
    "plt.show()\n",
    "\n"
   ]
  },
  {
   "cell_type": "markdown",
   "metadata": {},
   "source": [
    "## Line and scatter plots"
   ]
  },
  {
   "cell_type": "code",
   "execution_count": 83,
   "metadata": {},
   "outputs": [
    {
     "data": {
      "text/plain": [
       "<matplotlib.legend.Legend at 0x21cbb2c5978>"
      ]
     },
     "execution_count": 83,
     "metadata": {},
     "output_type": "execute_result"
    },
    {
     "data": {
      "image/png": "[encoded data removed]",
      "text/plain": [
       "<Figure size 432x288 with 1 Axes>"
      ]
     },
     "metadata": {
      "needs_background": "light"
     },
     "output_type": "display_data"
    }
   ],
   "source": [
    "# Generate a line plot of time point versus tumor volume for a mouse treated with Capomulin\n",
    "#step 1 get the data (columns to work with)\n",
    "new_t_df  = pd.merge (study_results,mouse_metadata, how='left', on=['Mouse ID'])\n",
    "#new_t_df\n",
    "# step 2 select columns needed and group it\n",
    "val_columns_df = new_t_df[['Drug Regimen','Mouse ID','Timepoint','Total_vol']]\n",
    "val_columns_df=val_columns_df.loc[(val_columns_df['Drug Regimen'] == 'Capomulin') &\n",
    "               (val_columns_df['Mouse ID'] == 's185')]\n",
    "val_columns_df\n",
    "val_columns_df = val_columns_df[['Mouse ID','Timepoint','Total_vol']]\n",
    "val_columns_df.plot.line()\n",
    "plt.title(\"time point versus tumor volume for a mouse\")\n",
    "plt.xlabel(\"X-axis\")\n",
    "plt.ylabel(\"Y-axis\")\n",
    "plt.legend()\n",
    "#plt.show()\n"
   ]
  },
  {
   "cell_type": "code",
   "execution_count": 84,
   "metadata": {},
   "outputs": [
    {
     "data": {
      "image/png": "[encoded data removed]",
      "text/plain": [
       "<Figure size 432x288 with 1 Axes>"
      ]
     },
     "metadata": {
      "needs_background": "light"
     },
     "output_type": "display_data"
    }
   ],
   "source": [
    "# Generate a scatter plot of mouse weight versus average tumor volume for the Capomulin regimen\n",
    "#step 1 get weight mouse data from mouse df\n",
    "mouse_df= mouse_metadata[['Drug Regimen','Mouse ID','Weight (g)']]\n",
    "v_m_weight_df = mouse_df.loc[(mouse_df['Drug Regimen'] == 'Capomulin')]\n",
    "#new_t_df =new_t_df.groupby(new_t_df['Drug Regimen'])\n",
    "#v_m_weight_df         \n",
    "#step 2 get average tumor volume from results df\n",
    "new_t_df  = pd.merge (study_results,mouse_metadata, how='left', on=['Mouse ID'])\n",
    "new_t_df  = new_t_df[['Drug Regimen','Mouse ID','Total_vol']]\n",
    "v_m_tvol_df = new_t_df.loc[(new_t_df['Drug Regimen'] == 'Capomulin')]\n",
    "# Grouping data and getting the avg\n",
    "v_grp = v_m_tvol_df.groupby(['Drug Regimen', 'Mouse ID']) \n",
    "v_avg_tvol = pd.DataFrame(v_grp['Total_vol'].mean())\n",
    "v_avg_tvol \n",
    "# step 3 merge 2 df\n",
    "v_sum_wv_df = pd.merge(v_m_weight_df ,v_avg_tvol, on='Mouse ID')\n",
    "v_sum_wv_df\n",
    "# step 4 plot scatter\n",
    "v_sum_wv_df.rename(columns = {'Weight (g)':'weight_v'}, inplace = True)  \n",
    "#v_sum_wv_df\n",
    "# Draw a scatter plot\n",
    "v_sum_wv_df.plot.scatter(x='weight_v', y='Total_vol', title= \n",
    "                         \"scatter plot of mouse weight versus average tumor volume for the Capomulin\");\n",
    "plt.show(block=True);\n"
   ]
  },
  {
   "cell_type": "code",
   "execution_count": 85,
   "metadata": {},
   "outputs": [
    {
     "name": "stdout",
     "output_type": "stream",
     "text": [
      "The correlation between both factors is 0.84\n"
     ]
    }
   ],
   "source": [
    "# Calculate the correlation coefficient and linear regression model for mouse weight and average tumor volume for the Capomulin regimen\n",
    "#v_sum_wv_df\n",
    "v_weight = v_sum_wv_df.iloc[:,2]\n",
    "v_tvol = v_sum_wv_df.iloc[:,3]\n",
    "correlation = st.pearsonr(v_weight,v_tvol)\n",
    "print(f\"The correlation between both factors is {round(correlation[0],2)}\")"
   ]
  },
  {
   "cell_type": "code",
   "execution_count": 86,
   "metadata": {},
   "outputs": [
    {
     "data": {
      "image/png": "[encoded data removed]",
      "text/plain": [
       "<Figure size 432x288 with 1 Axes>"
      ]
     },
     "metadata": {
      "needs_background": "light"
     },
     "output_type": "display_data"
    }
   ],
   "source": [
    "# linear regression equation and line to plot\n",
    "x_values = v_sum_wv_df['weight_v']\n",
    "y_values = v_sum_wv_df['Total_vol']\n",
    "(slope, intercept, rvalue, pvalue, stderr) = linregress(x_values, y_values)\n",
    "regress_values = x_values * slope + intercept\n",
    "line_eq = \"y = \" + str(round(slope,2)) + \"x + \" + str(round(intercept,2))\n",
    "plt.scatter(x_values,y_values)\n",
    "plt.plot(x_values,regress_values,\"r-\")\n",
    "plt.annotate(line_eq,(6,10),fontsize=15,color=\"red\")\n",
    "plt.xlabel('mouse weight')\n",
    "plt.ylabel('average tumor')\n",
    "plt.show()"
   ]
  }
 ],
 "metadata": {
  "anaconda-cloud": {},
  "kernelspec": {
   "display_name": "Python 3",
   "language": "python",
   "name": "python3"
  },
  "language_info": {
   "codemirror_mode": {
    "name": "ipython",
    "version": 3
   },
   "file_extension": ".py",
   "mimetype": "text/x-python",
   "name": "python",
   "nbconvert_exporter": "python",
   "pygments_lexer": "ipython3",
   "version": "3.6.10"
  }
 },
 "nbformat": 4,
 "nbformat_minor": 2
}
